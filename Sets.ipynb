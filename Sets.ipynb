{
 "cells": [
  {
   "cell_type": "code",
   "execution_count": 1,
   "id": "9d17168a-d53f-4592-b529-60576f8d91d3",
   "metadata": {},
   "outputs": [],
   "source": [
    "country_codes = {}"
   ]
  },
  {
   "cell_type": "code",
   "execution_count": 2,
   "id": "2ebc444b-c09b-42dc-9801-3becae8114d7",
   "metadata": {},
   "outputs": [],
   "source": [
    "country_codes.update({'South Africa': 'za'})"
   ]
  },
  {
   "cell_type": "code",
   "execution_count": 3,
   "id": "435b52cf-2300-4936-918d-8f2000d06060",
   "metadata": {},
   "outputs": [
    {
     "data": {
      "text/plain": [
       "{'South Africa': 'za'}"
      ]
     },
     "execution_count": 3,
     "metadata": {},
     "output_type": "execute_result"
    }
   ],
   "source": [
    "country_codes"
   ]
  },
  {
   "cell_type": "code",
   "execution_count": 4,
   "id": "07760e66-5df6-4c83-887b-97ab61bdd3dc",
   "metadata": {},
   "outputs": [],
   "source": [
    "country_codes.update(Australia='ar')"
   ]
  },
  {
   "cell_type": "code",
   "execution_count": 5,
   "id": "14336f5d-e746-4430-b840-de2866176a34",
   "metadata": {},
   "outputs": [
    {
     "data": {
      "text/plain": [
       "{'South Africa': 'za', 'Australia': 'ar'}"
      ]
     },
     "execution_count": 5,
     "metadata": {},
     "output_type": "execute_result"
    }
   ],
   "source": [
    "country_codes"
   ]
  },
  {
   "cell_type": "code",
   "execution_count": 6,
   "id": "fffb1a2b-8459-49ea-ba4a-0defe76d911b",
   "metadata": {},
   "outputs": [],
   "source": [
    "country_codes.update(Australia='au')"
   ]
  },
  {
   "cell_type": "code",
   "execution_count": 8,
   "id": "67c75ab9-8333-4d90-be79-bcf8e29d6d50",
   "metadata": {},
   "outputs": [
    {
     "data": {
      "text/plain": [
       "{'South Africa': 'za', 'Australia': 'au'}"
      ]
     },
     "execution_count": 8,
     "metadata": {},
     "output_type": "execute_result"
    }
   ],
   "source": [
    "country_codes"
   ]
  },
  {
   "cell_type": "code",
   "execution_count": 9,
   "id": "bbb59906-f85d-40a6-ae7b-1bbe9685fff5",
   "metadata": {},
   "outputs": [],
   "source": [
    "months = {'January': 1, 'February': 2, 'March': 3}"
   ]
  },
  {
   "cell_type": "code",
   "execution_count": 10,
   "id": "e13a3996-3d5e-4b33-96e0-2a1d6edf0b69",
   "metadata": {},
   "outputs": [],
   "source": [
    "months2 = {number: name for name, number in months.items()}"
   ]
  },
  {
   "cell_type": "code",
   "execution_count": 11,
   "id": "628a57dc-f270-4c60-ac85-16b3c16e2ba6",
   "metadata": {},
   "outputs": [
    {
     "data": {
      "text/plain": [
       "{1: 'January', 2: 'February', 3: 'March'}"
      ]
     },
     "execution_count": 11,
     "metadata": {},
     "output_type": "execute_result"
    }
   ],
   "source": [
    "months2"
   ]
  },
  {
   "cell_type": "code",
   "execution_count": 12,
   "id": "ddcc862e-1d5a-473c-8c36-059f3f8e0082",
   "metadata": {},
   "outputs": [],
   "source": [
    "grades = {'Sue': [98,87,94], 'Bob': [84,95,91]}"
   ]
  },
  {
   "cell_type": "code",
   "execution_count": 13,
   "id": "4e7f5d6c-befc-4c58-ba95-88f3e3b2bf3b",
   "metadata": {},
   "outputs": [],
   "source": [
    "grades2 = {k: sum(v) / len(v) for k, v in grades.items()}"
   ]
  },
  {
   "cell_type": "code",
   "execution_count": 14,
   "id": "3ab1f70c-edbb-4e33-b67d-e4ce3e833265",
   "metadata": {},
   "outputs": [
    {
     "data": {
      "text/plain": [
       "{'Sue': 93.0, 'Bob': 90.0}"
      ]
     },
     "execution_count": 14,
     "metadata": {},
     "output_type": "execute_result"
    }
   ],
   "source": [
    "grades2"
   ]
  },
  {
   "cell_type": "code",
   "execution_count": 15,
   "id": "79bfbfef-70de-400d-b23d-cd1feeaddf5d",
   "metadata": {},
   "outputs": [
    {
     "data": {
      "text/plain": [
       "{1: 1, 2: 8, 3: 27, 4: 64, 5: 125}"
      ]
     },
     "execution_count": 15,
     "metadata": {},
     "output_type": "execute_result"
    }
   ],
   "source": [
    "{number: number ** 3 for number in range(1,6)}"
   ]
  },
  {
   "cell_type": "code",
   "execution_count": 18,
   "id": "f3673950-2e10-434d-9d57-f701d5cb7f26",
   "metadata": {},
   "outputs": [],
   "source": [
    "colors = {'red', 'orange', 'yellow', 'green', 'red', 'blue'}"
   ]
  },
  {
   "cell_type": "code",
   "execution_count": 19,
   "id": "11ba5860-90dc-4b51-a32d-8d479e51272d",
   "metadata": {},
   "outputs": [
    {
     "data": {
      "text/plain": [
       "{'blue', 'green', 'orange', 'red', 'yellow'}"
      ]
     },
     "execution_count": 19,
     "metadata": {},
     "output_type": "execute_result"
    }
   ],
   "source": [
    "colors"
   ]
  },
  {
   "cell_type": "code",
   "execution_count": 20,
   "id": "a82b7c37-4b69-4542-8244-7529f8353639",
   "metadata": {},
   "outputs": [
    {
     "data": {
      "text/plain": [
       "5"
      ]
     },
     "execution_count": 20,
     "metadata": {},
     "output_type": "execute_result"
    }
   ],
   "source": [
    "len(colors)"
   ]
  },
  {
   "cell_type": "code",
   "execution_count": 21,
   "id": "11629d68-65eb-4b26-9b0d-b0bdf550db42",
   "metadata": {},
   "outputs": [
    {
     "data": {
      "text/plain": [
       "True"
      ]
     },
     "execution_count": 21,
     "metadata": {},
     "output_type": "execute_result"
    }
   ],
   "source": [
    "'red' in colors"
   ]
  },
  {
   "cell_type": "code",
   "execution_count": 22,
   "id": "9738c572-1880-4474-a6c3-14507c44dace",
   "metadata": {},
   "outputs": [
    {
     "data": {
      "text/plain": [
       "False"
      ]
     },
     "execution_count": 22,
     "metadata": {},
     "output_type": "execute_result"
    }
   ],
   "source": [
    "'purple' in colors"
   ]
  },
  {
   "cell_type": "code",
   "execution_count": 23,
   "id": "4bc0b706-d7d6-434d-a92d-c130fa51c1f0",
   "metadata": {},
   "outputs": [
    {
     "data": {
      "text/plain": [
       "True"
      ]
     },
     "execution_count": 23,
     "metadata": {},
     "output_type": "execute_result"
    }
   ],
   "source": [
    "'purple' not in colors"
   ]
  },
  {
   "cell_type": "code",
   "execution_count": 24,
   "id": "71f54a45-59f3-4fff-83dc-0bcc19d48401",
   "metadata": {},
   "outputs": [
    {
     "name": "stdout",
     "output_type": "stream",
     "text": [
      "ORANGE GREEN RED YELLOW BLUE "
     ]
    }
   ],
   "source": [
    "for color in colors: \n",
    "    print(color.upper(), end=' ')"
   ]
  },
  {
   "cell_type": "code",
   "execution_count": 25,
   "id": "b2110ca5-23e3-46a7-a7f6-7eb3fcb3ce2b",
   "metadata": {},
   "outputs": [],
   "source": [
    "numbers = list(range(10)) + list(range(5))"
   ]
  },
  {
   "cell_type": "code",
   "execution_count": 26,
   "id": "83cd59b0-b6e7-4b75-b07a-9bdbe8b0117b",
   "metadata": {},
   "outputs": [
    {
     "data": {
      "text/plain": [
       "[0, 1, 2, 3, 4, 5, 6, 7, 8, 9, 0, 1, 2, 3, 4]"
      ]
     },
     "execution_count": 26,
     "metadata": {},
     "output_type": "execute_result"
    }
   ],
   "source": [
    "numbers"
   ]
  },
  {
   "cell_type": "code",
   "execution_count": 27,
   "id": "eeba6fa7-65b3-4449-963f-bc4bc91687e6",
   "metadata": {},
   "outputs": [
    {
     "data": {
      "text/plain": [
       "{0, 1, 2, 3, 4, 5, 6, 7, 8, 9}"
      ]
     },
     "execution_count": 27,
     "metadata": {},
     "output_type": "execute_result"
    }
   ],
   "source": [
    "set(numbers)"
   ]
  },
  {
   "cell_type": "code",
   "execution_count": 28,
   "id": "99cf2d87-3307-47f2-a927-e36b9006381d",
   "metadata": {},
   "outputs": [
    {
     "data": {
      "text/plain": [
       "set()"
      ]
     },
     "execution_count": 28,
     "metadata": {},
     "output_type": "execute_result"
    }
   ],
   "source": [
    "set()"
   ]
  },
  {
   "cell_type": "code",
   "execution_count": 29,
   "id": "dec1adc5-4fec-4527-8a21-5fcdf13aaf03",
   "metadata": {},
   "outputs": [],
   "source": [
    "text = 'to be or not to be that is the question'"
   ]
  },
  {
   "cell_type": "code",
   "execution_count": 30,
   "id": "788ec6d0-19b1-41ba-922a-cd51bc1a8e14",
   "metadata": {},
   "outputs": [],
   "source": [
    "unique_words = set(text.split())"
   ]
  },
  {
   "cell_type": "code",
   "execution_count": 32,
   "id": "745799bb-8b4c-41b2-a4e5-b0d619ff3e26",
   "metadata": {},
   "outputs": [
    {
     "name": "stdout",
     "output_type": "stream",
     "text": [
      "be is not or question that the to "
     ]
    }
   ],
   "source": [
    "for word in sorted(unique_words):\n",
    "    print(word, end=\" \")"
   ]
  },
  {
   "cell_type": "code",
   "execution_count": 33,
   "id": "ac83fce1-3026-45e5-be2e-f7fe1359c06b",
   "metadata": {},
   "outputs": [
    {
     "data": {
      "text/plain": [
       "True"
      ]
     },
     "execution_count": 33,
     "metadata": {},
     "output_type": "execute_result"
    }
   ],
   "source": [
    "{1,3,5} == {3,5,1}"
   ]
  },
  {
   "cell_type": "code",
   "execution_count": 34,
   "id": "ea97bd39-f3b7-43e9-a023-6a5c2ed6dcc1",
   "metadata": {},
   "outputs": [
    {
     "data": {
      "text/plain": [
       "False"
      ]
     },
     "execution_count": 34,
     "metadata": {},
     "output_type": "execute_result"
    }
   ],
   "source": [
    "{1,3,5} != {3,5,1}"
   ]
  },
  {
   "cell_type": "code",
   "execution_count": 35,
   "id": "fb5479df-9ad1-4677-a97d-058bccfdd1b5",
   "metadata": {},
   "outputs": [
    {
     "data": {
      "text/plain": [
       "False"
      ]
     },
     "execution_count": 35,
     "metadata": {},
     "output_type": "execute_result"
    }
   ],
   "source": [
    "{1,3,5} < {3,5,1}"
   ]
  },
  {
   "cell_type": "code",
   "execution_count": 36,
   "id": "04f71599-460a-4b17-b578-a0cc99fb0fbd",
   "metadata": {},
   "outputs": [
    {
     "data": {
      "text/plain": [
       "True"
      ]
     },
     "execution_count": 36,
     "metadata": {},
     "output_type": "execute_result"
    }
   ],
   "source": [
    "{1,3,5} < {7,3,5,1}"
   ]
  },
  {
   "cell_type": "code",
   "execution_count": 37,
   "id": "05e8cf78-5934-4e69-b353-75a4c8790f86",
   "metadata": {},
   "outputs": [
    {
     "data": {
      "text/plain": [
       "True"
      ]
     },
     "execution_count": 37,
     "metadata": {},
     "output_type": "execute_result"
    }
   ],
   "source": [
    "{1,3,5} <= {3,5,1}"
   ]
  },
  {
   "cell_type": "code",
   "execution_count": 38,
   "id": "05fba6a5-1618-4b0e-9515-338c38f2bfa6",
   "metadata": {},
   "outputs": [
    {
     "data": {
      "text/plain": [
       "True"
      ]
     },
     "execution_count": 38,
     "metadata": {},
     "output_type": "execute_result"
    }
   ],
   "source": [
    "{1,3,5}.issubset({3,5,1})"
   ]
  },
  {
   "cell_type": "code",
   "execution_count": 39,
   "id": "6dd6a3da-7b87-4bbf-9b78-b582e941a48b",
   "metadata": {},
   "outputs": [
    {
     "data": {
      "text/plain": [
       "False"
      ]
     },
     "execution_count": 39,
     "metadata": {},
     "output_type": "execute_result"
    }
   ],
   "source": [
    "{1,2}.issubset({3,5,1})"
   ]
  },
  {
   "cell_type": "code",
   "execution_count": 40,
   "id": "e7eac764-e78d-4749-b193-2559b70b3921",
   "metadata": {},
   "outputs": [
    {
     "data": {
      "text/plain": [
       "True"
      ]
     },
     "execution_count": 40,
     "metadata": {},
     "output_type": "execute_result"
    }
   ],
   "source": [
    "set('abc def ghi jkl mno').issuperset('hi mom')"
   ]
  },
  {
   "cell_type": "code",
   "execution_count": 42,
   "id": "12d8f20b-ec5e-496a-8245-8358e56f8692",
   "metadata": {},
   "outputs": [
    {
     "data": {
      "text/plain": [
       "{1, 2, 3, 4, 5}"
      ]
     },
     "execution_count": 42,
     "metadata": {},
     "output_type": "execute_result"
    }
   ],
   "source": [
    "{1,3,5} | {2,3,4}"
   ]
  },
  {
   "cell_type": "code",
   "execution_count": 43,
   "id": "d49cfe1c-c767-4da0-bd7b-ad66afcf00dc",
   "metadata": {},
   "outputs": [
    {
     "data": {
      "text/plain": [
       "{1, 3, 5, 20, 40}"
      ]
     },
     "execution_count": 43,
     "metadata": {},
     "output_type": "execute_result"
    }
   ],
   "source": [
    "{1,3,5}.union([20,20,3,40,40])"
   ]
  },
  {
   "cell_type": "code",
   "execution_count": 44,
   "id": "0fdd1beb-070d-47cb-bf21-7864c437b43f",
   "metadata": {},
   "outputs": [
    {
     "data": {
      "text/plain": [
       "{3}"
      ]
     },
     "execution_count": 44,
     "metadata": {},
     "output_type": "execute_result"
    }
   ],
   "source": [
    "{1,3,5} & {2,3,4}"
   ]
  },
  {
   "cell_type": "code",
   "execution_count": 45,
   "id": "58b6bcae-5786-4b0a-930b-f2dcb60b9f49",
   "metadata": {},
   "outputs": [
    {
     "data": {
      "text/plain": [
       "{1, 3}"
      ]
     },
     "execution_count": 45,
     "metadata": {},
     "output_type": "execute_result"
    }
   ],
   "source": [
    "{1,3,5}.intersection([1,2,2,3,3,4,4])"
   ]
  },
  {
   "cell_type": "code",
   "execution_count": 46,
   "id": "22be7e36-7e42-4439-87d6-0b668fff0ed7",
   "metadata": {},
   "outputs": [
    {
     "data": {
      "text/plain": [
       "{1, 5}"
      ]
     },
     "execution_count": 46,
     "metadata": {},
     "output_type": "execute_result"
    }
   ],
   "source": [
    "{1,3,5} - {2,3,4}"
   ]
  },
  {
   "cell_type": "code",
   "execution_count": 47,
   "id": "fc9d5ef2-10fa-4b61-82e5-88015b62fee9",
   "metadata": {},
   "outputs": [
    {
     "data": {
      "text/plain": [
       "{1, 5, 7}"
      ]
     },
     "execution_count": 47,
     "metadata": {},
     "output_type": "execute_result"
    }
   ],
   "source": [
    "{1,3,5,7}.difference([2,2,3,3,4,4])"
   ]
  },
  {
   "cell_type": "code",
   "execution_count": 48,
   "id": "f56b6548-d1ad-4283-a3e8-365866c580de",
   "metadata": {},
   "outputs": [
    {
     "data": {
      "text/plain": [
       "True"
      ]
     },
     "execution_count": 48,
     "metadata": {},
     "output_type": "execute_result"
    }
   ],
   "source": [
    "{1,3,5}.isdisjoint({2,4,6})"
   ]
  },
  {
   "cell_type": "code",
   "execution_count": 49,
   "id": "073df766-57f3-415c-b42b-6bb8e9bc2177",
   "metadata": {},
   "outputs": [
    {
     "data": {
      "text/plain": [
       "False"
      ]
     },
     "execution_count": 49,
     "metadata": {},
     "output_type": "execute_result"
    }
   ],
   "source": [
    "{1,3,5}.isdisjoint({4,6,1})"
   ]
  },
  {
   "cell_type": "code",
   "execution_count": 50,
   "id": "9db035e4-aced-4d56-a4f3-7ea9c85568e1",
   "metadata": {},
   "outputs": [],
   "source": [
    "numbers = {1,3,5}"
   ]
  },
  {
   "cell_type": "code",
   "execution_count": 51,
   "id": "b0c99012-1232-448d-8a08-464133dccda5",
   "metadata": {},
   "outputs": [],
   "source": [
    "numbers |= {2,3,4}"
   ]
  },
  {
   "cell_type": "code",
   "execution_count": 53,
   "id": "0d94be5c-ba2a-43ea-b9ad-f87006cce7e5",
   "metadata": {},
   "outputs": [
    {
     "data": {
      "text/plain": [
       "{1, 2, 3, 4, 5}"
      ]
     },
     "execution_count": 53,
     "metadata": {},
     "output_type": "execute_result"
    }
   ],
   "source": [
    "numbers"
   ]
  },
  {
   "cell_type": "code",
   "execution_count": 54,
   "id": "dd92e0b7-919a-48c9-8a35-550f68eb4fe3",
   "metadata": {},
   "outputs": [],
   "source": [
    "numbers.update(range(10))"
   ]
  },
  {
   "cell_type": "code",
   "execution_count": 55,
   "id": "59f2499a-92b3-4413-b702-d5d24a798b7d",
   "metadata": {},
   "outputs": [
    {
     "data": {
      "text/plain": [
       "{0, 1, 2, 3, 4, 5, 6, 7, 8, 9}"
      ]
     },
     "execution_count": 55,
     "metadata": {},
     "output_type": "execute_result"
    }
   ],
   "source": [
    "numbers"
   ]
  },
  {
   "cell_type": "code",
   "execution_count": 56,
   "id": "7dabcc7b-2e75-441b-aa5f-665863c69ea0",
   "metadata": {},
   "outputs": [],
   "source": [
    "numbers.add(17)"
   ]
  },
  {
   "cell_type": "code",
   "execution_count": 57,
   "id": "2bb74aff-0693-41b5-a998-779816832bad",
   "metadata": {},
   "outputs": [
    {
     "data": {
      "text/plain": [
       "{0, 1, 2, 3, 4, 5, 6, 7, 8, 9, 17}"
      ]
     },
     "execution_count": 57,
     "metadata": {},
     "output_type": "execute_result"
    }
   ],
   "source": [
    "numbers"
   ]
  },
  {
   "cell_type": "code",
   "execution_count": 58,
   "id": "e30848eb-e112-4dd2-82a7-43c0ba8f048e",
   "metadata": {},
   "outputs": [],
   "source": [
    "numbers.remove(3)"
   ]
  },
  {
   "cell_type": "code",
   "execution_count": 59,
   "id": "dae61d3c-8ba8-4c31-a8a5-76fe8ccb53cc",
   "metadata": {},
   "outputs": [
    {
     "data": {
      "text/plain": [
       "{0, 1, 2, 4, 5, 6, 7, 8, 9, 17}"
      ]
     },
     "execution_count": 59,
     "metadata": {},
     "output_type": "execute_result"
    }
   ],
   "source": [
    "numbers"
   ]
  },
  {
   "cell_type": "code",
   "execution_count": 61,
   "id": "df24fe8b-deb5-4793-a597-0a18cf846f3d",
   "metadata": {},
   "outputs": [
    {
     "data": {
      "text/plain": [
       "0"
      ]
     },
     "execution_count": 61,
     "metadata": {},
     "output_type": "execute_result"
    }
   ],
   "source": [
    "numbers.pop()"
   ]
  },
  {
   "cell_type": "code",
   "execution_count": 62,
   "id": "2faec730-3d8d-4ea6-95ad-45337291b14f",
   "metadata": {},
   "outputs": [
    {
     "data": {
      "text/plain": [
       "{1, 2, 4, 5, 6, 7, 8, 9, 17}"
      ]
     },
     "execution_count": 62,
     "metadata": {},
     "output_type": "execute_result"
    }
   ],
   "source": [
    "numbers"
   ]
  },
  {
   "cell_type": "code",
   "execution_count": 63,
   "id": "a658358d-c74d-480b-bcc7-c431959a0ed2",
   "metadata": {},
   "outputs": [],
   "source": [
    "numbers.clear()"
   ]
  },
  {
   "cell_type": "code",
   "execution_count": 64,
   "id": "5fc20bc6-3b4b-41dd-bcca-ed5ff1756bcd",
   "metadata": {},
   "outputs": [
    {
     "data": {
      "text/plain": [
       "set()"
      ]
     },
     "execution_count": 64,
     "metadata": {},
     "output_type": "execute_result"
    }
   ],
   "source": [
    "numbers"
   ]
  },
  {
   "cell_type": "code",
   "execution_count": 65,
   "id": "b11e4639-7b50-49bd-9408-d8dbe8ff7e4f",
   "metadata": {},
   "outputs": [
    {
     "data": {
      "text/plain": [
       "'Sheila Wogomon'"
      ]
     },
     "execution_count": 65,
     "metadata": {},
     "output_type": "execute_result"
    }
   ],
   "source": [
    "\"\"\"Sheila Wogomon\"\"\""
   ]
  }
 ],
 "metadata": {
  "kernelspec": {
   "display_name": "Python 3 (ipykernel)",
   "language": "python",
   "name": "python3"
  },
  "language_info": {
   "codemirror_mode": {
    "name": "ipython",
    "version": 3
   },
   "file_extension": ".py",
   "mimetype": "text/x-python",
   "name": "python",
   "nbconvert_exporter": "python",
   "pygments_lexer": "ipython3",
   "version": "3.9.12"
  }
 },
 "nbformat": 4,
 "nbformat_minor": 5
}
