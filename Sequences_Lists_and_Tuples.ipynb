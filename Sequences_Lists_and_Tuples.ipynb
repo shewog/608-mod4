{
 "cells": [
  {
   "cell_type": "code",
   "execution_count": 1,
   "id": "fcfab274-78a8-4cfb-886f-57f591c99385",
   "metadata": {},
   "outputs": [],
   "source": [
    "numbers = [2,3,5,7,11,13,17,19]"
   ]
  },
  {
   "cell_type": "code",
   "execution_count": 2,
   "id": "f604500a-3fd5-453b-8f20-0e2ea7ea717b",
   "metadata": {},
   "outputs": [
    {
     "data": {
      "text/plain": [
       "[5, 7, 11, 13]"
      ]
     },
     "execution_count": 2,
     "metadata": {},
     "output_type": "execute_result"
    }
   ],
   "source": [
    "numbers[2:6]"
   ]
  },
  {
   "cell_type": "code",
   "execution_count": 3,
   "id": "e3f06ca2-d5ac-44c5-bbb0-5c72b00a571b",
   "metadata": {},
   "outputs": [
    {
     "data": {
      "text/plain": [
       "[2, 3, 5, 7, 11, 13]"
      ]
     },
     "execution_count": 3,
     "metadata": {},
     "output_type": "execute_result"
    }
   ],
   "source": [
    "numbers[:6]"
   ]
  },
  {
   "cell_type": "code",
   "execution_count": 4,
   "id": "b120051f-e0c8-4a36-91b2-bfb16f776475",
   "metadata": {},
   "outputs": [
    {
     "data": {
      "text/plain": [
       "[2, 3, 5, 7, 11, 13]"
      ]
     },
     "execution_count": 4,
     "metadata": {},
     "output_type": "execute_result"
    }
   ],
   "source": [
    "numbers[0:6]"
   ]
  },
  {
   "cell_type": "code",
   "execution_count": 6,
   "id": "ff038bfa-9eb4-45b3-b56d-282357f2ec69",
   "metadata": {},
   "outputs": [
    {
     "data": {
      "text/plain": [
       "[17, 19]"
      ]
     },
     "execution_count": 6,
     "metadata": {},
     "output_type": "execute_result"
    }
   ],
   "source": [
    "numbers[6:]"
   ]
  },
  {
   "cell_type": "code",
   "execution_count": 8,
   "id": "5a542752-fc2a-408a-804a-c0a5cccefbe5",
   "metadata": {},
   "outputs": [
    {
     "data": {
      "text/plain": [
       "[17, 19]"
      ]
     },
     "execution_count": 8,
     "metadata": {},
     "output_type": "execute_result"
    }
   ],
   "source": [
    "numbers[6:len(numbers)]"
   ]
  },
  {
   "cell_type": "code",
   "execution_count": 9,
   "id": "e3e04b52-bca7-4536-8e76-195ab6b43e27",
   "metadata": {},
   "outputs": [
    {
     "data": {
      "text/plain": [
       "[2, 3, 5, 7, 11, 13, 17, 19]"
      ]
     },
     "execution_count": 9,
     "metadata": {},
     "output_type": "execute_result"
    }
   ],
   "source": [
    "numbers[:]"
   ]
  },
  {
   "cell_type": "code",
   "execution_count": 10,
   "id": "11cfcaa1-93cc-4ccd-be74-3607adc86f16",
   "metadata": {},
   "outputs": [
    {
     "data": {
      "text/plain": [
       "[2, 5, 11, 17]"
      ]
     },
     "execution_count": 10,
     "metadata": {},
     "output_type": "execute_result"
    }
   ],
   "source": [
    "numbers[::2]"
   ]
  },
  {
   "cell_type": "code",
   "execution_count": 11,
   "id": "53a02f0c-cd56-472c-952b-160be60db782",
   "metadata": {},
   "outputs": [
    {
     "data": {
      "text/plain": [
       "[19, 17, 13, 11, 7, 5, 3, 2]"
      ]
     },
     "execution_count": 11,
     "metadata": {},
     "output_type": "execute_result"
    }
   ],
   "source": [
    "numbers[::-1]"
   ]
  },
  {
   "cell_type": "code",
   "execution_count": 13,
   "id": "084f58fb-9723-4205-9061-1d2d489aa4a2",
   "metadata": {},
   "outputs": [
    {
     "data": {
      "text/plain": [
       "[19, 17, 13, 11, 7, 5, 3, 2]"
      ]
     },
     "execution_count": 13,
     "metadata": {},
     "output_type": "execute_result"
    }
   ],
   "source": [
    "numbers[-1:-9:-1]"
   ]
  },
  {
   "cell_type": "code",
   "execution_count": 20,
   "id": "a42979e7-1ec3-4dc8-8df4-885363c2f270",
   "metadata": {},
   "outputs": [],
   "source": [
    "numbers = [2,3,5,7,11,13,17,19]"
   ]
  },
  {
   "cell_type": "code",
   "execution_count": 22,
   "id": "6b3167a3-f45f-42d3-a8f4-ccbaf8df8046",
   "metadata": {},
   "outputs": [],
   "source": [
    "numbers[0:3] = ['two', 'three', 'five']"
   ]
  },
  {
   "cell_type": "code",
   "execution_count": 23,
   "id": "b4451c48-7e19-4b40-9187-a2fee5fe8b34",
   "metadata": {},
   "outputs": [
    {
     "data": {
      "text/plain": [
       "['two', 'three', 'five', 7, 11, 13, 17, 19]"
      ]
     },
     "execution_count": 23,
     "metadata": {},
     "output_type": "execute_result"
    }
   ],
   "source": [
    "numbers"
   ]
  },
  {
   "cell_type": "code",
   "execution_count": 24,
   "id": "3342a5ee-7355-4183-8d0b-04c360823f58",
   "metadata": {},
   "outputs": [],
   "source": [
    "numbers[0:3] = []"
   ]
  },
  {
   "cell_type": "code",
   "execution_count": 25,
   "id": "20b1c3c0-64ab-4129-ab2d-a60c91c6ff8b",
   "metadata": {},
   "outputs": [
    {
     "data": {
      "text/plain": [
       "[7, 11, 13, 17, 19]"
      ]
     },
     "execution_count": 25,
     "metadata": {},
     "output_type": "execute_result"
    }
   ],
   "source": [
    "numbers"
   ]
  },
  {
   "cell_type": "code",
   "execution_count": 26,
   "id": "32e3154f-f595-4d66-972b-03bf6da9b2e0",
   "metadata": {},
   "outputs": [],
   "source": [
    "numbers = [2,3,5,7,11,13,17,19]"
   ]
  },
  {
   "cell_type": "code",
   "execution_count": 27,
   "id": "69259c2f-90ec-4873-b3d2-7c300a7f02ad",
   "metadata": {},
   "outputs": [],
   "source": [
    "numbers[::2] = [100, 100, 100, 100]"
   ]
  },
  {
   "cell_type": "code",
   "execution_count": 28,
   "id": "7dce2a04-5197-4aa9-bc38-7aef858d118d",
   "metadata": {},
   "outputs": [
    {
     "data": {
      "text/plain": [
       "[100, 3, 100, 7, 100, 13, 100, 19]"
      ]
     },
     "execution_count": 28,
     "metadata": {},
     "output_type": "execute_result"
    }
   ],
   "source": [
    "numbers"
   ]
  },
  {
   "cell_type": "code",
   "execution_count": 29,
   "id": "c427205b-04e3-438c-8205-cc05679d67e1",
   "metadata": {},
   "outputs": [
    {
     "data": {
      "text/plain": [
       "2537709046592"
      ]
     },
     "execution_count": 29,
     "metadata": {},
     "output_type": "execute_result"
    }
   ],
   "source": [
    "id(numbers)"
   ]
  },
  {
   "cell_type": "code",
   "execution_count": 30,
   "id": "62d903d0-29c1-4f0d-a829-419453f3edad",
   "metadata": {},
   "outputs": [],
   "source": [
    "numbers[:] = []"
   ]
  },
  {
   "cell_type": "code",
   "execution_count": 31,
   "id": "e60f7105-84d6-46a3-89c6-156122235965",
   "metadata": {},
   "outputs": [
    {
     "data": {
      "text/plain": [
       "[]"
      ]
     },
     "execution_count": 31,
     "metadata": {},
     "output_type": "execute_result"
    }
   ],
   "source": [
    "numbers"
   ]
  },
  {
   "cell_type": "code",
   "execution_count": 32,
   "id": "749fff45-08a5-40a7-8beb-fdcb2f254348",
   "metadata": {},
   "outputs": [
    {
     "data": {
      "text/plain": [
       "2537709046592"
      ]
     },
     "execution_count": 32,
     "metadata": {},
     "output_type": "execute_result"
    }
   ],
   "source": [
    "id(numbers)"
   ]
  },
  {
   "cell_type": "code",
   "execution_count": 33,
   "id": "f051991f-d13a-41b5-87ad-e78f3b9a05b8",
   "metadata": {},
   "outputs": [],
   "source": [
    "numbers = []"
   ]
  },
  {
   "cell_type": "code",
   "execution_count": 34,
   "id": "812bb336-9410-4104-b335-33aaa1c48d59",
   "metadata": {},
   "outputs": [
    {
     "data": {
      "text/plain": [
       "[]"
      ]
     },
     "execution_count": 34,
     "metadata": {},
     "output_type": "execute_result"
    }
   ],
   "source": [
    "numbers"
   ]
  },
  {
   "cell_type": "code",
   "execution_count": 35,
   "id": "d34167f4-045b-4d33-9d21-a39d6f44a356",
   "metadata": {},
   "outputs": [
    {
     "data": {
      "text/plain": [
       "2537708785344"
      ]
     },
     "execution_count": 35,
     "metadata": {},
     "output_type": "execute_result"
    }
   ],
   "source": [
    "id(numbers)"
   ]
  },
  {
   "cell_type": "code",
   "execution_count": 36,
   "id": "c9414fdd-6f3e-47e4-a473-824d00bbbd00",
   "metadata": {},
   "outputs": [],
   "source": [
    "numbers = list(range(1,16))"
   ]
  },
  {
   "cell_type": "code",
   "execution_count": 37,
   "id": "13b45b28-01f9-4556-ada0-5acc13a0d53e",
   "metadata": {},
   "outputs": [
    {
     "data": {
      "text/plain": [
       "[1, 2, 3, 4, 5, 6, 7, 8, 9, 10, 11, 12, 13, 14, 15]"
      ]
     },
     "execution_count": 37,
     "metadata": {},
     "output_type": "execute_result"
    }
   ],
   "source": [
    "numbers"
   ]
  },
  {
   "cell_type": "code",
   "execution_count": 38,
   "id": "89cddf64-2162-408d-b750-b142454cd9fd",
   "metadata": {},
   "outputs": [
    {
     "data": {
      "text/plain": [
       "[2, 4, 6, 8, 10, 12, 14]"
      ]
     },
     "execution_count": 38,
     "metadata": {},
     "output_type": "execute_result"
    }
   ],
   "source": [
    "numbers[1:len(numbers):2]"
   ]
  },
  {
   "cell_type": "code",
   "execution_count": 39,
   "id": "4c5015cf-14b3-4f46-bb9a-cd41ca581c13",
   "metadata": {},
   "outputs": [],
   "source": [
    "numbers[5:10] = [0] * len(numbers[5:10])"
   ]
  },
  {
   "cell_type": "code",
   "execution_count": 40,
   "id": "ac312931-54cb-4aba-b37a-96c78cd52aea",
   "metadata": {},
   "outputs": [
    {
     "data": {
      "text/plain": [
       "[1, 2, 3, 4, 5, 0, 0, 0, 0, 0, 11, 12, 13, 14, 15]"
      ]
     },
     "execution_count": 40,
     "metadata": {},
     "output_type": "execute_result"
    }
   ],
   "source": [
    "numbers"
   ]
  },
  {
   "cell_type": "code",
   "execution_count": 41,
   "id": "c56cd32f-608f-423c-b183-ccb81a869983",
   "metadata": {},
   "outputs": [],
   "source": [
    "numbers [5:] = []"
   ]
  },
  {
   "cell_type": "code",
   "execution_count": 42,
   "id": "98de3e52-bff6-4a11-9149-8d49ebe32f3b",
   "metadata": {},
   "outputs": [
    {
     "data": {
      "text/plain": [
       "[1, 2, 3, 4, 5]"
      ]
     },
     "execution_count": 42,
     "metadata": {},
     "output_type": "execute_result"
    }
   ],
   "source": [
    "numbers"
   ]
  },
  {
   "cell_type": "code",
   "execution_count": 43,
   "id": "594b96a1-abef-4a95-aeb2-2dcce2b39871",
   "metadata": {},
   "outputs": [],
   "source": [
    "numbers[:] = []"
   ]
  },
  {
   "cell_type": "code",
   "execution_count": 44,
   "id": "9f7e22d7-40c8-4dbe-b5da-7c05bd7eea3f",
   "metadata": {},
   "outputs": [
    {
     "data": {
      "text/plain": [
       "[]"
      ]
     },
     "execution_count": 44,
     "metadata": {},
     "output_type": "execute_result"
    }
   ],
   "source": [
    "numbers"
   ]
  },
  {
   "cell_type": "code",
   "execution_count": 46,
   "id": "0284994a-4314-4a4b-8298-0cc94dbb942d",
   "metadata": {},
   "outputs": [],
   "source": [
    "numbers = list(range(1,16))"
   ]
  },
  {
   "cell_type": "code",
   "execution_count": 47,
   "id": "e8f41665-3ca0-46f6-93c6-e508bef4c375",
   "metadata": {},
   "outputs": [
    {
     "data": {
      "text/plain": [
       "[1, 2, 3, 4, 5, 6, 7, 8, 9, 10, 11, 12, 13, 14, 15]"
      ]
     },
     "execution_count": 47,
     "metadata": {},
     "output_type": "execute_result"
    }
   ],
   "source": [
    "numbers"
   ]
  },
  {
   "cell_type": "code",
   "execution_count": 48,
   "id": "2106ab15-b64b-48be-a2f9-2aa07ea7ff6a",
   "metadata": {},
   "outputs": [],
   "source": [
    "del numbers [0:4]"
   ]
  },
  {
   "cell_type": "code",
   "execution_count": 49,
   "id": "39e3bb43-dae9-4e77-ae05-1fbcb9fd6ad3",
   "metadata": {},
   "outputs": [
    {
     "data": {
      "text/plain": [
       "[5, 6, 7, 8, 9, 10, 11, 12, 13, 14, 15]"
      ]
     },
     "execution_count": 49,
     "metadata": {},
     "output_type": "execute_result"
    }
   ],
   "source": [
    "numbers"
   ]
  },
  {
   "cell_type": "code",
   "execution_count": 51,
   "id": "1792b903-fe02-4d33-88e0-3b3dfe1430c5",
   "metadata": {},
   "outputs": [],
   "source": [
    "del numbers [::2]"
   ]
  },
  {
   "cell_type": "code",
   "execution_count": 52,
   "id": "bf6fcf74-fff1-4c12-b8a3-e8177c95c9cd",
   "metadata": {},
   "outputs": [
    {
     "data": {
      "text/plain": [
       "[6, 8, 10, 12, 14]"
      ]
     },
     "execution_count": 52,
     "metadata": {},
     "output_type": "execute_result"
    }
   ],
   "source": [
    "numbers"
   ]
  },
  {
   "cell_type": "code",
   "execution_count": 57,
   "id": "f7e88650-cbcb-4315-a766-ef145779876c",
   "metadata": {},
   "outputs": [],
   "source": [
    "def modify_elements(items):\n",
    "    \"\"\"Multiplies all element values in items by 2.\"\"\"\n",
    "    for i in range(len(items)):\n",
    "        items[i] *= 2"
   ]
  },
  {
   "cell_type": "code",
   "execution_count": 54,
   "id": "04d1a7a5-0659-4247-9925-1d97e7977d73",
   "metadata": {},
   "outputs": [],
   "source": [
    "numbers = [10,3,7,1,9]"
   ]
  },
  {
   "cell_type": "code",
   "execution_count": 58,
   "id": "81d907bc-7fb9-41b1-890c-835b6dd412cc",
   "metadata": {},
   "outputs": [],
   "source": [
    "modify_elements(numbers)"
   ]
  },
  {
   "cell_type": "code",
   "execution_count": 59,
   "id": "a2200a8b-08d2-4ac2-af81-813a7e93750c",
   "metadata": {},
   "outputs": [
    {
     "data": {
      "text/plain": [
       "[20, 6, 14, 2, 18]"
      ]
     },
     "execution_count": 59,
     "metadata": {},
     "output_type": "execute_result"
    }
   ],
   "source": [
    "numbers"
   ]
  },
  {
   "cell_type": "code",
   "execution_count": 60,
   "id": "fc22b70a-2861-4346-92cf-881ca3c07b70",
   "metadata": {},
   "outputs": [],
   "source": [
    "foods = ['Cookies', 'pizza', 'Grapes', 'apples', 'steak', 'Bacon']"
   ]
  },
  {
   "cell_type": "code",
   "execution_count": 61,
   "id": "15c355cd-cc87-47f5-803f-9ad082feec70",
   "metadata": {},
   "outputs": [],
   "source": [
    "foods.sort()"
   ]
  },
  {
   "cell_type": "code",
   "execution_count": 62,
   "id": "0b8e1d91-1c5a-439e-a7a7-fc318a75edf4",
   "metadata": {},
   "outputs": [
    {
     "data": {
      "text/plain": [
       "['Bacon', 'Cookies', 'Grapes', 'apples', 'pizza', 'steak']"
      ]
     },
     "execution_count": 62,
     "metadata": {},
     "output_type": "execute_result"
    }
   ],
   "source": [
    "foods"
   ]
  },
  {
   "cell_type": "code",
   "execution_count": 63,
   "id": "db849b27-b05e-4134-9e52-6a8e073a7913",
   "metadata": {},
   "outputs": [],
   "source": [
    "numbers = [67,12,46,43,13]"
   ]
  },
  {
   "cell_type": "code",
   "execution_count": 64,
   "id": "4abc599e-6491-4e8a-b37d-9996534cd529",
   "metadata": {},
   "outputs": [
    {
     "data": {
      "text/plain": [
       "3"
      ]
     },
     "execution_count": 64,
     "metadata": {},
     "output_type": "execute_result"
    }
   ],
   "source": [
    "numbers.index(43)"
   ]
  },
  {
   "cell_type": "code",
   "execution_count": 65,
   "id": "520ab199-0893-4a57-a100-e3d3f06cd5a0",
   "metadata": {},
   "outputs": [
    {
     "name": "stdout",
     "output_type": "stream",
     "text": [
      "44 not found\n"
     ]
    }
   ],
   "source": [
    "if 44 in numbers:\n",
    "    print(f'Found 44 at index: {numbers.index(44)}')\n",
    "else:\n",
    "    print('44 not found')"
   ]
  },
  {
   "cell_type": "code",
   "execution_count": 66,
   "id": "d8bade28-e390-4590-9c02-d3386d3238c0",
   "metadata": {},
   "outputs": [],
   "source": [
    "cubes = [(x, x ** 3) for x in range(1,6)]"
   ]
  },
  {
   "cell_type": "code",
   "execution_count": 68,
   "id": "8cecf51c-8a8d-4efb-bd6e-9e6a3161c3f4",
   "metadata": {},
   "outputs": [
    {
     "data": {
      "text/plain": [
       "[(1, 1), (2, 8), (3, 27), (4, 64), (5, 125)]"
      ]
     },
     "execution_count": 68,
     "metadata": {},
     "output_type": "execute_result"
    }
   ],
   "source": [
    "cubes"
   ]
  },
  {
   "cell_type": "code",
   "execution_count": 69,
   "id": "fe7d9697-eb4a-45e1-8d62-020e31546625",
   "metadata": {},
   "outputs": [],
   "source": [
    "multiples = [x for x in range(3, 30, 3)]"
   ]
  },
  {
   "cell_type": "code",
   "execution_count": 70,
   "id": "e8876efd-2bbb-45f0-90f4-da37c56ae367",
   "metadata": {},
   "outputs": [
    {
     "data": {
      "text/plain": [
       "[3, 6, 9, 12, 15, 18, 21, 24, 27]"
      ]
     },
     "execution_count": 70,
     "metadata": {},
     "output_type": "execute_result"
    }
   ],
   "source": [
    "multiples"
   ]
  },
  {
   "cell_type": "code",
   "execution_count": 72,
   "id": "22ceda99-8866-4cb9-b076-8b7d53d58f43",
   "metadata": {},
   "outputs": [],
   "source": [
    "a = [[77,68,86,73], [96,87,89,81], [70,90,86,81]]"
   ]
  },
  {
   "cell_type": "code",
   "execution_count": 73,
   "id": "90fe69c6-7b7d-4993-a6c0-d759db53a647",
   "metadata": {},
   "outputs": [
    {
     "name": "stdout",
     "output_type": "stream",
     "text": [
      "77 68 86 73 \n",
      "96 87 89 81 \n",
      "70 90 86 81 \n"
     ]
    }
   ],
   "source": [
    "for row in a:\n",
    "    for item in row:\n",
    "        print(item, end=' ')\n",
    "    print()"
   ]
  },
  {
   "cell_type": "code",
   "execution_count": 89,
   "id": "3426e0db-62c2-4264-bc44-6aa5d7bb0bec",
   "metadata": {},
   "outputs": [
    {
     "name": "stdout",
     "output_type": "stream",
     "text": [
      "a[0][0]=77  a[0][1]=68  a[0][2]=86  a[0][3]=73  \n",
      "a[1][0]=96  a[1][1]=87  a[1][2]=89  a[1][3]=81  \n",
      "a[2][0]=70  a[2][1]=90  a[2][2]=86  a[2][3]=81  \n"
     ]
    }
   ],
   "source": [
    "for i, row in enumerate(a):\n",
    "    for j, item in enumerate(row):\n",
    "        print(f'a[{i}][{j}]={item} ', end=' ')\n",
    "    print()"
   ]
  },
  {
   "cell_type": "code",
   "execution_count": 80,
   "id": "42768480-6364-4523-ab3a-2a2974200c39",
   "metadata": {},
   "outputs": [],
   "source": [
    "t = [[10,7,3], [20,4,17]]"
   ]
  },
  {
   "cell_type": "code",
   "execution_count": 81,
   "id": "568d21c7-c58b-42fd-a521-3479b288c10d",
   "metadata": {},
   "outputs": [],
   "source": [
    "total = 0"
   ]
  },
  {
   "cell_type": "code",
   "execution_count": 82,
   "id": "ac5b8197-9f08-42fd-a395-7eda6a55f744",
   "metadata": {},
   "outputs": [],
   "source": [
    "items = 0"
   ]
  },
  {
   "cell_type": "code",
   "execution_count": 83,
   "id": "5a1bc1fc-1742-40ff-aa8a-4a73319d44d6",
   "metadata": {},
   "outputs": [],
   "source": [
    "for row in t:\n",
    "    for item in row:\n",
    "        total += item\n",
    "        items += 1"
   ]
  },
  {
   "cell_type": "code",
   "execution_count": 84,
   "id": "6a2110d8-072d-4122-80a2-ff07fb270784",
   "metadata": {},
   "outputs": [
    {
     "data": {
      "text/plain": [
       "10.166666666666666"
      ]
     },
     "execution_count": 84,
     "metadata": {},
     "output_type": "execute_result"
    }
   ],
   "source": [
    "total / items"
   ]
  },
  {
   "cell_type": "code",
   "execution_count": 85,
   "id": "40ded92d-df74-46e6-8451-7c2a145dde78",
   "metadata": {},
   "outputs": [],
   "source": [
    "total = 0"
   ]
  },
  {
   "cell_type": "code",
   "execution_count": 86,
   "id": "5f37c908-ec77-4bcf-b7ae-c608a9e0dd29",
   "metadata": {},
   "outputs": [],
   "source": [
    "items = 0"
   ]
  },
  {
   "cell_type": "code",
   "execution_count": 87,
   "id": "ccc1ca9f-e9e5-423d-afdc-d90a2b7099b5",
   "metadata": {},
   "outputs": [],
   "source": [
    "for row in t:\n",
    "    total += sum(row)\n",
    "    items += len(row)"
   ]
  },
  {
   "cell_type": "code",
   "execution_count": 88,
   "id": "86725415-9bff-4784-b036-1b6ad5f22be4",
   "metadata": {},
   "outputs": [
    {
     "data": {
      "text/plain": [
       "10.166666666666666"
      ]
     },
     "execution_count": 88,
     "metadata": {},
     "output_type": "execute_result"
    }
   ],
   "source": [
    "total / items"
   ]
  },
  {
   "cell_type": "code",
   "execution_count": 90,
   "id": "e80ae780-f850-4709-8794-c288b3660fe1",
   "metadata": {},
   "outputs": [
    {
     "data": {
      "text/plain": [
       "'Sheila Wogomon'"
      ]
     },
     "execution_count": 90,
     "metadata": {},
     "output_type": "execute_result"
    }
   ],
   "source": [
    "\"\"\"Sheila Wogomon\"\"\""
   ]
  }
 ],
 "metadata": {
  "kernelspec": {
   "display_name": "Python 3 (ipykernel)",
   "language": "python",
   "name": "python3"
  },
  "language_info": {
   "codemirror_mode": {
    "name": "ipython",
    "version": 3
   },
   "file_extension": ".py",
   "mimetype": "text/x-python",
   "name": "python",
   "nbconvert_exporter": "python",
   "pygments_lexer": "ipython3",
   "version": "3.9.12"
  }
 },
 "nbformat": 4,
 "nbformat_minor": 5
}
